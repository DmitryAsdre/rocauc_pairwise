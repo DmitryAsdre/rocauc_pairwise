{
 "cells": [
  {
   "cell_type": "code",
   "execution_count": 1,
   "metadata": {},
   "outputs": [],
   "source": [
    "import os\n",
    "import numpy as np\n",
    "os.environ['CFLAGS'] = '-fopenmp'\n",
    "os.environ['LDFLAGS'] = '-fopenmp'\n",
    "\n",
    "os.environ[\"C_INCLUDE_PATH\"] = np.get_include()\n",
    "\n",
    "import pyximport\n",
    "pyximport.install()\n",
    "\n",
    "from collections import defaultdict\n",
    "from sklearn.metrics import roc_auc_score\n",
    "from copy import deepcopy\n",
    "from rocauc_pairwise.sigmoid_pairwise_cpu import sigmoid_pairwise_loss\n",
    "from rocauc_pairwise.sigmoid_pairwise_auc_cpu import sigmoid_pairwise_loss_auc_cpu\n",
    "from rocauc_pairwise.sigmoid_pairwise_auc_cpu import sigmoid_pairwise_loss_auc_exact_cpu"
   ]
  },
  {
   "cell_type": "code",
   "execution_count": 2,
   "metadata": {},
   "outputs": [],
   "source": [
    "N = 10_000\n",
    "y_true = np.random.randint(0, 2, N)\n",
    "y_pred = np.random.randn(N)\n",
    "exp_pred = np.exp(y_pred)"
   ]
  },
  {
   "cell_type": "code",
   "execution_count": 3,
   "metadata": {},
   "outputs": [],
   "source": [
    "def get_pairs(y_true, y_pred):\n",
    "    pairs = []\n",
    "    for i in range(len(y_true)):\n",
    "        for j in range(i + 1):\n",
    "            pairs.append([(i, j), (y_true[i], y_true[j]), (y_pred[i], y_pred[j])])\n",
    "    return pairs"
   ]
  },
  {
   "cell_type": "code",
   "execution_count": 4,
   "metadata": {},
   "outputs": [],
   "source": [
    "def delta_auc_score(y_true, y_pred, i, j):\n",
    "    auc_1 = roc_auc_score(y_true, y_pred)\n",
    "    y_pred_ = deepcopy(y_pred)\n",
    "    y_pred_[i], y_pred_[j] = y_pred_[j], y_pred_[i]\n",
    "    auc_2 = roc_auc_score(y_true, y_pred_)\n",
    "    return auc_1 - auc_2"
   ]
  },
  {
   "cell_type": "code",
   "execution_count": 5,
   "metadata": {},
   "outputs": [],
   "source": [
    "def grad(pairs):\n",
    "    grad_ = defaultdict(lambda : 0)\n",
    "    hess_ = defaultdict(lambda : 0)\n",
    "    loss = 0\n",
    "    eps = 1e-20\n",
    "\n",
    "    for p in pairs:\n",
    "        (i, j), (y_true_i, y_true_j), (y_pred_i, y_pred_j) = p\n",
    "        if(y_true_i > y_true_j):\n",
    "            P_hat = 1.0\n",
    "        elif y_true_j == y_true_i:\n",
    "            P_hat = 0.5\n",
    "        elif y_true_i < y_true_j:\n",
    "            P_hat = 0.0\n",
    "        \n",
    "        deltaauc_ij = delta_auc_score(y_true, y_pred, i, j)\n",
    "\n",
    "        grad_i = ((P_hat - 1.)*np.exp(y_pred_i) + P_hat*np.exp(y_pred_j)) / (np.exp(y_pred_i) + np.exp(y_pred_j))\n",
    "        grad_j = -grad_i\n",
    "\n",
    "        hess_i = -(np.exp(y_pred_i + y_pred_j)) / (np.exp(y_pred_i) + np.exp(y_pred_j))**2\n",
    "        hess_j = hess_i\n",
    "\n",
    "        grad_[i] += grad_i * np.abs(deltaauc_ij)\n",
    "        grad_[j] += grad_j * np.abs(deltaauc_ij)\n",
    "        \n",
    "        hess_[i] += hess_i * np.abs(deltaauc_ij)\n",
    "        hess_[j] += hess_j * np.abs(deltaauc_ij)\n",
    "\n",
    "        exp_pred_i = np.exp(y_pred_i)\n",
    "        exp_pred_j = np.exp(y_pred_j)\n",
    "        P = 1.0 / (1.0 + (exp_pred_j / exp_pred_i))\n",
    "        loss += np.abs(deltaauc_ij)*(P_hat*np.log(P + eps) + (1.0 - P_hat)*np.log(1.0 - P - eps))\n",
    "    return grad_.values(), hess_.values(), loss"
   ]
  },
  {
   "cell_type": "code",
   "execution_count": null,
   "metadata": {},
   "outputs": [],
   "source": [
    "y_true = np.array([1, 0, 0, 1, 0, 0, 1, 1])\n",
    "y_pred = np.array([0.3, 0.1, 0.5, 0.5, 0.3, 0.1, 0.5, 0.24])"
   ]
  },
  {
   "cell_type": "code",
   "execution_count": 14,
   "metadata": {},
   "outputs": [],
   "source": [
    "pairs = get_pairs(y_true, y_pred)\n",
    "\n",
    "grad(pairs)"
   ]
  },
  {
   "cell_type": "code",
   "execution_count": 6,
   "metadata": {},
   "outputs": [
    {
     "data": {
      "text/plain": [
       "-3445.547255752764"
      ]
     },
     "execution_count": 6,
     "metadata": {},
     "output_type": "execute_result"
    }
   ],
   "source": [
    "\n",
    "sigmoid_pairwise_loss_auc_cpu(y_true, exp_pred, 12)"
   ]
  },
  {
   "cell_type": "code",
   "execution_count": 7,
   "metadata": {},
   "outputs": [
    {
     "data": {
      "text/plain": [
       "-3445.5472557527637"
      ]
     },
     "execution_count": 7,
     "metadata": {},
     "output_type": "execute_result"
    }
   ],
   "source": [
    "sigmoid_pairwise_loss_auc_exact_cpu(y_true, exp_pred, 12)"
   ]
  },
  {
   "cell_type": "code",
   "execution_count": null,
   "metadata": {},
   "outputs": [],
   "source": []
  }
 ],
 "metadata": {
  "kernelspec": {
   "display_name": "rocauc_envs",
   "language": "python",
   "name": "python3"
  },
  "language_info": {
   "codemirror_mode": {
    "name": "ipython",
    "version": 3
   },
   "file_extension": ".py",
   "mimetype": "text/x-python",
   "name": "python",
   "nbconvert_exporter": "python",
   "pygments_lexer": "ipython3",
   "version": "3.10.9"
  },
  "orig_nbformat": 4
 },
 "nbformat": 4,
 "nbformat_minor": 2
}
