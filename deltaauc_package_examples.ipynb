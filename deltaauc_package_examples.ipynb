{
 "cells": [
  {
   "cell_type": "code",
   "execution_count": 8,
   "metadata": {},
   "outputs": [],
   "source": [
    "from copy import deepcopy\n",
    "\n",
    "import numpy as np\n",
    "from sklearn.metrics import roc_auc_score \n",
    "import tqdm\n",
    "\n",
    "from rocauc_pairwise.deltaauc_cpu import deltaauc_exact\n",
    "from rocauc_pairwise.deltaauc_cpu import deltaauc\n",
    "from rocauc_pairwise.utils import get_labelscount_borders"
   ]
  },
  {
   "cell_type": "code",
   "execution_count": 2,
   "metadata": {},
   "outputs": [],
   "source": [
    "def delta_auc_score(y_true, y_pred, i, j):\n",
    "    auc_1 = roc_auc_score(y_true, y_pred)\n",
    "    y_pred_ = deepcopy(y_pred)\n",
    "    y_pred_[i], y_pred_[j] = y_pred_[j], y_pred_[i]\n",
    "    auc_2 = roc_auc_score(y_true, y_pred_)\n",
    "    return auc_1 - auc_2   "
   ]
  },
  {
   "attachments": {},
   "cell_type": "markdown",
   "metadata": {},
   "source": [
    "# Simple test"
   ]
  },
  {
   "cell_type": "code",
   "execution_count": 3,
   "metadata": {},
   "outputs": [],
   "source": [
    "y_true = [0, 1, 0, 1, 0, 1, 1, 0, 1, 0]\n",
    "y_pred = [0.5, 0.5, 0.5, 0.1, 0.05, 0.02, 0.02, 0.02, 0.02, 0.02]\n",
    "y_pred = np.array(y_pred)\n",
    "y_true = np.array(y_true)"
   ]
  },
  {
   "cell_type": "code",
   "execution_count": 4,
   "metadata": {},
   "outputs": [],
   "source": [
    "n_ones, n_zeroes = np.sum(y_true), len(y_true) - np.sum(y_true)\n",
    "y_pred_argsorted = np.argsort(y_pred)[::-1]\n",
    "counters_p, counters_n, y_pred_left, y_pred_right = get_labelscount_borders(y_true, y_pred, y_pred_argsorted)"
   ]
  },
  {
   "cell_type": "code",
   "execution_count": 5,
   "metadata": {},
   "outputs": [],
   "source": [
    "deltaauc_true = delta_auc_score(y_true, y_pred, 0, 6)\n",
    "deltaauc_numba = deltaauc_exact(y_true, y_pred, \n",
    "                                counters_p, counters_n,\n",
    "                                y_pred_left, y_pred_right, \n",
    "                                n_ones, n_zeroes,\n",
    "                                0, 6)"
   ]
  },
  {
   "cell_type": "code",
   "execution_count": 6,
   "metadata": {},
   "outputs": [],
   "source": [
    "assert(np.abs(deltaauc_true - deltaauc_numba) < 1e-6)"
   ]
  },
  {
   "attachments": {},
   "cell_type": "markdown",
   "metadata": {},
   "source": [
    "# Random tests "
   ]
  },
  {
   "cell_type": "code",
   "execution_count": 7,
   "metadata": {},
   "outputs": [],
   "source": [
    "def compute_deltaauc_exact(y_true, y_pred, i, j):\n",
    "    n_ones, n_zeroes = np.sum(y_true), len(y_true) - np.sum(y_true)\n",
    "    y_pred_argsorted = np.argsort(y_pred)[::-1]\n",
    "    counters_p, counters_n, y_pred_left, y_pred_right = get_labelscount_borders(y_true, y_pred, y_pred_argsorted)\n",
    "    \n",
    "    deltaauc_numba = deltaauc_exact(y_true, y_pred, \n",
    "                                counters_p, counters_n,\n",
    "                                y_pred_left, y_pred_right, \n",
    "                                n_ones, n_zeroes,\n",
    "                                i, j)\n",
    "    return deltaauc_numba\n",
    "\n",
    "def get_random_preds(n_unique, n):\n",
    "    y_true = np.random.randint(0, 2, n)\n",
    "    y_pred = np.random.randint(0, n_unique, n)\n",
    "    if np.sum(y_true) == len(y_true):\n",
    "        y_true[0] = 0\n",
    "    if np.sum(y_true) == 0:\n",
    "        y_true[0] = 1\n",
    "    return y_true, y_pred"
   ]
  },
  {
   "cell_type": "code",
   "execution_count": 9,
   "metadata": {},
   "outputs": [
    {
     "name": "stderr",
     "output_type": "stream",
     "text": [
      "100%|██████████| 10000/10000 [05:16<00:00, 31.61it/s]\n"
     ]
    }
   ],
   "source": [
    "aucs = []\n",
    "\n",
    "for k in tqdm.tqdm(range(10000)):\n",
    "    y_true, y_pred = get_random_preds(7, 10)\n",
    "    for s in range(30):\n",
    "        i, j = np.random.randint(0, 10), np.random.randint(0, 10)\n",
    "        tmp = delta_auc_score(y_true, y_pred, i, j)\n",
    "        tmp1 = compute_deltaauc_exact(y_true, y_pred, i, j)\n",
    "        aucs.append(tmp1)\n",
    "        assert np.abs(tmp - tmp1) < 1e-4"
   ]
  },
  {
   "cell_type": "code",
   "execution_count": null,
   "metadata": {},
   "outputs": [],
   "source": []
  }
 ],
 "metadata": {
  "kernelspec": {
   "display_name": "rocauc_pairwise",
   "language": "python",
   "name": "python3"
  },
  "language_info": {
   "codemirror_mode": {
    "name": "ipython",
    "version": 3
   },
   "file_extension": ".py",
   "mimetype": "text/x-python",
   "name": "python",
   "nbconvert_exporter": "python",
   "pygments_lexer": "ipython3",
   "version": "3.8.16"
  },
  "orig_nbformat": 4
 },
 "nbformat": 4,
 "nbformat_minor": 2
}
