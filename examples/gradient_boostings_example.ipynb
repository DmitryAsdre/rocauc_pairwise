{
 "cells": [
  {
   "cell_type": "code",
   "execution_count": 39,
   "metadata": {},
   "outputs": [],
   "source": [
    "from functools import partial\n",
    "\n",
    "import numpy as np\n",
    "import pandas as pd\n",
    "\n",
    "from sklearn.datasets import load_breast_cancer\n",
    "from sklearn.model_selection import train_test_split\n",
    "from sklearn.metrics import roc_auc_score\n",
    "\n",
    "import lightgbm\n",
    "from lightgbm import Dataset"
   ]
  },
  {
   "attachments": {},
   "cell_type": "markdown",
   "metadata": {},
   "source": [
    "## Import roc_auc_pairwise package"
   ]
  },
  {
   "cell_type": "code",
   "execution_count": 2,
   "metadata": {},
   "outputs": [],
   "source": [
    "#This function computes sigmoid pairwise loss auc on gpu with approx. auc computation \n",
    "from roc_auc_pairwise.sigmoid_pairwise_auc_gpu import sigmoid_pairwise_loss_auc_gpu_py\n",
    "#This function computes sigmoid pairwise loss auc on gpu with exact auc computation \n",
    "from roc_auc_pairwise.sigmoid_pairwise_auc_gpu import sigmoid_pairwise_loss_auc_exact_gpu_py\n",
    "#This function computes sigmoid pairwise gradient and hessian auc on gpu with approx. auc computation \n",
    "from roc_auc_pairwise.sigmoid_pairwise_auc_gpu import sigmoid_pairwise_diff_hess_auc_gpu_py\n",
    "#This function computes sigmoid pairwise gradient and hessian auc on gpu with exact auc computation \n",
    "from roc_auc_pairwise.sigmoid_pairwise_auc_gpu import sigmoid_pairwise_diff_hess_auc_exact_gpu_py\n",
    "\n",
    "#This function computes sigmoid pairwise loss auc on cpu with approx. auc computation \n",
    "from roc_auc_pairwise.sigmoid_pairwise_auc_cpu import sigmoid_pairwise_loss_auc_cpu_py\n",
    "#This function computes sigmoid pairwise loss auc on cpu with exact auc computation \n",
    "from roc_auc_pairwise.sigmoid_pairwise_auc_cpu import sigmoid_pairwise_loss_auc_exact_cpu_py\n",
    "#This function computes sigmoid pairwise gradient and hessian auc on cpu with approx. auc computation \n",
    "from roc_auc_pairwise.sigmoid_pairwise_auc_cpu import sigmoid_pairwise_diff_hess_auc_cpu_py\n",
    "#This function computes sigmoid pairwise gradient and hessian auc on cpu with exact auc computation \n",
    "from roc_auc_pairwise.sigmoid_pairwise_auc_cpu import sigmoid_pairwise_diff_hess_auc_exact_cpu_py\n",
    "\n",
    "#This function computes sigmoid pairwise loss on gpu\n",
    "from roc_auc_pairwise.sigmoid_pairwise_gpu import sigmoid_pairwise_loss_gpu_py \n",
    "#This function computes sigmoid pairwise gradent and hessian on gpu\n",
    "from roc_auc_pairwise.sigmoid_pairwise_gpu import sigmoid_pairwise_diff_hess_gpu_py\n",
    "\n",
    "#This function computes sigmoid pairwise loss on cpu \n",
    "from roc_auc_pairwise.sigmoid_pairwise_cpu import sigmoid_pairwise_loss_py\n",
    "#This function computes sigmoid pairwise gradient and hessian on cpu\n",
    "from roc_auc_pairwise.sigmoid_pairwise_cpu import sigmoid_pairwise_diff_hess_py"
   ]
  },
  {
   "attachments": {},
   "cell_type": "markdown",
   "metadata": {},
   "source": [
    "### Load breast_cancer dataset for binary classification"
   ]
  },
  {
   "cell_type": "code",
   "execution_count": 4,
   "metadata": {},
   "outputs": [],
   "source": [
    "br_cancer = load_breast_cancer()\n",
    "X = br_cancer['data']\n",
    "y = br_cancer['target']"
   ]
  },
  {
   "cell_type": "code",
   "execution_count": 9,
   "metadata": {},
   "outputs": [],
   "source": [
    "X_train, X_test, y_train, y_test = train_test_split(X, y, test_size=0.2, random_state=42, stratify=y)"
   ]
  },
  {
   "cell_type": "code",
   "execution_count": 20,
   "metadata": {},
   "outputs": [],
   "source": [
    "fit = Dataset(X_train, y_train, free_raw_data=True)\n",
    "val = Dataset(X_test, y_test, free_raw_data=True)"
   ]
  },
  {
   "attachments": {},
   "cell_type": "markdown",
   "metadata": {},
   "source": [
    "### Define roc_auc_score for lightgbm"
   ]
  },
  {
   "cell_type": "code",
   "execution_count": 35,
   "metadata": {},
   "outputs": [],
   "source": [
    "#define roc_auc_score loss for lightgbm\n",
    "def roc_auc_lgbm(preds, train_data):\n",
    "    y = train_data.get_label()\n",
    "    auc = roc_auc_score(y, preds)\n",
    "    is_higher_better = True\n",
    "    return 'default_rate', auc, is_higher_better"
   ]
  },
  {
   "attachments": {},
   "cell_type": "markdown",
   "metadata": {},
   "source": [
    "## Sigmoid pairwise Loss for lightgbm boosting"
   ]
  },
  {
   "cell_type": "code",
   "execution_count": 45,
   "metadata": {},
   "outputs": [],
   "source": [
    "def sigmoid_pairwise_loss(preds, train_data, device):\n",
    "    y = train_data.get_label()\n",
    "    \n",
    "    # !!!Important!!! gpu kernel accepts only single precision floats and int32_t integers\n",
    "    y = np.array(y, dtype=np.int32)\n",
    "    preds = np.array(preds, dtype=np.float32)\n",
    "    \n",
    "    if device == 'cpu':\n",
    "        grad, hess = sigmoid_pairwise_diff_hess_py(y, preds)\n",
    "    else:\n",
    "        grad, hess = sigmoid_pairwise_diff_hess_gpu_py(y, preds)\n",
    "    return -grad, -hess"
   ]
  },
  {
   "cell_type": "code",
   "execution_count": 46,
   "metadata": {},
   "outputs": [
    {
     "name": "stdout",
     "output_type": "stream",
     "text": [
      "[LightGBM] [Warning] Using self-defined objective function\n",
      "[LightGBM] [Warning] Auto-choosing col-wise multi-threading, the overhead of testing was 0.000217 seconds.\n",
      "You can set `force_col_wise=true` to remove the overhead.\n",
      "[LightGBM] [Info] Total Bins 4542\n",
      "[LightGBM] [Info] Number of data points in the train set: 455, number of used features: 30\n",
      "[LightGBM] [Warning] Using self-defined objective function\n",
      "[1]\tfit's default_rate: 0.975996\tval's default_rate: 0.964616\n",
      "[2]\tfit's default_rate: 0.975996\tval's default_rate: 0.964616\n",
      "[3]\tfit's default_rate: 0.975996\tval's default_rate: 0.964616\n",
      "[4]\tfit's default_rate: 0.975996\tval's default_rate: 0.964616\n",
      "[5]\tfit's default_rate: 0.975996\tval's default_rate: 0.964616\n",
      "[6]\tfit's default_rate: 0.975996\tval's default_rate: 0.964616\n",
      "[7]\tfit's default_rate: 0.975996\tval's default_rate: 0.964616\n",
      "[8]\tfit's default_rate: 0.982683\tval's default_rate: 0.970403\n",
      "[9]\tfit's default_rate: 0.981816\tval's default_rate: 0.970073\n",
      "[10]\tfit's default_rate: 0.981569\tval's default_rate: 0.96875\n",
      "[11]\tfit's default_rate: 0.983013\tval's default_rate: 0.977183\n",
      "[12]\tfit's default_rate: 0.983013\tval's default_rate: 0.976521\n",
      "[13]\tfit's default_rate: 0.982828\tval's default_rate: 0.976852\n",
      "[14]\tfit's default_rate: 0.982828\tval's default_rate: 0.976852\n",
      "[15]\tfit's default_rate: 0.982828\tval's default_rate: 0.976852\n",
      "[16]\tfit's default_rate: 0.982828\tval's default_rate: 0.976852\n",
      "[17]\tfit's default_rate: 0.982828\tval's default_rate: 0.976852\n",
      "[18]\tfit's default_rate: 0.982828\tval's default_rate: 0.976852\n",
      "[19]\tfit's default_rate: 0.983302\tval's default_rate: 0.978836\n",
      "[20]\tfit's default_rate: 0.983302\tval's default_rate: 0.978836\n",
      "[21]\tfit's default_rate: 0.983302\tval's default_rate: 0.979167\n",
      "[22]\tfit's default_rate: 0.983302\tval's default_rate: 0.978836\n",
      "[23]\tfit's default_rate: 0.983302\tval's default_rate: 0.978836\n",
      "[24]\tfit's default_rate: 0.983302\tval's default_rate: 0.978836\n",
      "[25]\tfit's default_rate: 0.983302\tval's default_rate: 0.979167\n"
     ]
    }
   ],
   "source": [
    "model = lightgbm.train(\n",
    "        params={'learning_rate': 0.005,\n",
    "                'num_leaves' : 4,\n",
    "                'boosting_type' : 'gbdt'},\n",
    "        train_set=fit,\n",
    "        num_boost_round=25,\n",
    "        valid_sets=(fit, val),\n",
    "        valid_names=('fit', 'val'),\n",
    "        feval=roc_auc_lgbm,\n",
    "        fobj =partial(sigmoid_pairwise_loss, device='gpu')\n",
    "        )"
   ]
  },
  {
   "attachments": {},
   "cell_type": "markdown",
   "metadata": {},
   "source": [
    "## Sigmoid pairwise Loss with approx. AUC computation for lightgbm boosting"
   ]
  },
  {
   "cell_type": "code",
   "execution_count": 48,
   "metadata": {},
   "outputs": [],
   "source": [
    "def sigmoid_pairwise_loss_auc_approx(preds, train_data, device):\n",
    "    y = train_data.get_label()\n",
    "    \n",
    "    # !!!Important!!! gpu kernel accepts only single precision floats and int32_t integers\n",
    "    y = np.array(y, dtype=np.int32)\n",
    "    preds = np.array(preds, dtype=np.float32)\n",
    "    \n",
    "    if device == 'cpu':\n",
    "        grad, hess = sigmoid_pairwise_diff_hess_auc_cpu_py(y, preds)\n",
    "    else:\n",
    "        grad, hess = sigmoid_pairwise_diff_hess_auc_gpu_py(y, preds)\n",
    "    return -grad, -hess"
   ]
  },
  {
   "cell_type": "code",
   "execution_count": 51,
   "metadata": {},
   "outputs": [
    {
     "name": "stdout",
     "output_type": "stream",
     "text": [
      "[LightGBM] [Warning] Using self-defined objective function\n",
      "[LightGBM] [Warning] Auto-choosing col-wise multi-threading, the overhead of testing was 0.000219 seconds.\n",
      "You can set `force_col_wise=true` to remove the overhead.\n",
      "[LightGBM] [Info] Total Bins 4542\n",
      "[LightGBM] [Info] Number of data points in the train set: 455, number of used features: 30\n",
      "[LightGBM] [Warning] Using self-defined objective function\n",
      "[1]\tfit's default_rate: 0.96935\tval's default_rate: 0.959325\n",
      "[2]\tfit's default_rate: 0.966945\tval's default_rate: 0.964616\n",
      "[3]\tfit's default_rate: 0.972002\tval's default_rate: 0.969081\n",
      "[4]\tfit's default_rate: 0.97225\tval's default_rate: 0.968915\n",
      "[5]\tfit's default_rate: 0.972208\tval's default_rate: 0.967923\n",
      "[6]\tfit's default_rate: 0.972291\tval's default_rate: 0.966931\n",
      "[7]\tfit's default_rate: 0.972291\tval's default_rate: 0.966931\n",
      "[8]\tfit's default_rate: 0.972291\tval's default_rate: 0.966931\n",
      "[9]\tfit's default_rate: 0.972291\tval's default_rate: 0.966931\n",
      "[10]\tfit's default_rate: 0.972291\tval's default_rate: 0.966931\n",
      "[11]\tfit's default_rate: 0.972291\tval's default_rate: 0.966931\n",
      "[12]\tfit's default_rate: 0.972291\tval's default_rate: 0.966931\n",
      "[13]\tfit's default_rate: 0.972291\tval's default_rate: 0.966931\n",
      "[14]\tfit's default_rate: 0.972291\tval's default_rate: 0.966931\n",
      "[15]\tfit's default_rate: 0.972291\tval's default_rate: 0.966931\n",
      "[16]\tfit's default_rate: 0.972291\tval's default_rate: 0.966931\n",
      "[17]\tfit's default_rate: 0.972291\tval's default_rate: 0.966931\n",
      "[18]\tfit's default_rate: 0.972291\tval's default_rate: 0.966931\n",
      "[19]\tfit's default_rate: 0.972208\tval's default_rate: 0.966931\n",
      "[20]\tfit's default_rate: 0.971961\tval's default_rate: 0.975198\n",
      "[21]\tfit's default_rate: 0.971961\tval's default_rate: 0.975198\n",
      "[22]\tfit's default_rate: 0.971961\tval's default_rate: 0.975198\n",
      "[23]\tfit's default_rate: 0.971961\tval's default_rate: 0.975198\n",
      "[24]\tfit's default_rate: 0.971961\tval's default_rate: 0.975198\n",
      "[25]\tfit's default_rate: 0.971961\tval's default_rate: 0.975198\n"
     ]
    }
   ],
   "source": [
    "model = lightgbm.train(\n",
    "        params={'learning_rate': 0.005,\n",
    "                'num_leaves' : 4,\n",
    "                'boosting_type' : 'gbdt'},\n",
    "        train_set=fit,\n",
    "        num_boost_round=25,\n",
    "        valid_sets=(fit, val),\n",
    "        valid_names=('fit', 'val'),\n",
    "        feval=roc_auc_lgbm,\n",
    "        fobj =partial(sigmoid_pairwise_loss_auc_approx, device='gpu')\n",
    "        )"
   ]
  },
  {
   "attachments": {},
   "cell_type": "markdown",
   "metadata": {},
   "source": [
    "## "
   ]
  },
  {
   "attachments": {},
   "cell_type": "markdown",
   "metadata": {},
   "source": [
    "## Sigmoid pairwise Loss with approx. AUC computation for lightgbm boosting"
   ]
  },
  {
   "cell_type": "code",
   "execution_count": 53,
   "metadata": {},
   "outputs": [],
   "source": [
    "def sigmoid_pairwise_loss_auc_exact(preds, train_data, device):\n",
    "    y = train_data.get_label()\n",
    "    \n",
    "    # !!!Important!!! gpu kernel accepts only single precision floats and int32_t integers\n",
    "    y = np.array(y, dtype=np.int32)\n",
    "    preds = np.array(preds, dtype=np.float32)\n",
    "    \n",
    "    global N\n",
    "    \n",
    "    # First boosting round has to be with sigmoid pairwise loss, \n",
    "    # because with all same y_pred deltaauc will be always zero, and grad, hess would be 0 too\n",
    "    if N == 0:\n",
    "        if device == 'cpu':\n",
    "            grad, hess = sigmoid_pairwise_diff_hess_gpu_py(y, preds)\n",
    "        else:\n",
    "            grad, hess = sigmoid_pairwise_diff_hess_py(y, preds)\n",
    "        N = 1\n",
    "    else:\n",
    "        if device == 'cpu':\n",
    "            grad, hess = sigmoid_pairwise_diff_hess_auc_exact_cpu_py(y, preds)\n",
    "        else:\n",
    "            grad, hess = sigmoid_pairwise_diff_hess_auc_exact_gpu_py(y, preds)\n",
    "    return -grad, -hess"
   ]
  },
  {
   "cell_type": "code",
   "execution_count": 55,
   "metadata": {},
   "outputs": [
    {
     "name": "stdout",
     "output_type": "stream",
     "text": [
      "[LightGBM] [Warning] Using self-defined objective function\n",
      "[LightGBM] [Warning] Auto-choosing col-wise multi-threading, the overhead of testing was 0.000221 seconds.\n",
      "You can set `force_col_wise=true` to remove the overhead.\n",
      "[LightGBM] [Info] Total Bins 4542\n",
      "[LightGBM] [Info] Number of data points in the train set: 455, number of used features: 30\n",
      "[LightGBM] [Warning] Using self-defined objective function\n",
      "[1]\tfit's default_rate: 0.975996\tval's default_rate: 0.964616\n",
      "[2]\tfit's default_rate: 0.979948\tval's default_rate: 0.980489\n",
      "[3]\tfit's default_rate: 0.977843\tval's default_rate: 0.979497\n",
      "[4]\tfit's default_rate: 0.980279\tval's default_rate: 0.979497\n",
      "[5]\tfit's default_rate: 0.980279\tval's default_rate: 0.979497\n",
      "[6]\tfit's default_rate: 0.980279\tval's default_rate: 0.979497\n",
      "[7]\tfit's default_rate: 0.980279\tval's default_rate: 0.979497\n",
      "[8]\tfit's default_rate: 0.980279\tval's default_rate: 0.979497\n",
      "[9]\tfit's default_rate: 0.980279\tval's default_rate: 0.979497\n",
      "[10]\tfit's default_rate: 0.980279\tval's default_rate: 0.979497\n",
      "[11]\tfit's default_rate: 0.980279\tval's default_rate: 0.979497\n",
      "[12]\tfit's default_rate: 0.980279\tval's default_rate: 0.979497\n",
      "[13]\tfit's default_rate: 0.980279\tval's default_rate: 0.979497\n",
      "[14]\tfit's default_rate: 0.980846\tval's default_rate: 0.979993\n",
      "[15]\tfit's default_rate: 0.980908\tval's default_rate: 0.979001\n",
      "[16]\tfit's default_rate: 0.980908\tval's default_rate: 0.979001\n",
      "[17]\tfit's default_rate: 0.980908\tval's default_rate: 0.979001\n",
      "[18]\tfit's default_rate: 0.980908\tval's default_rate: 0.979001\n",
      "[19]\tfit's default_rate: 0.980908\tval's default_rate: 0.979001\n",
      "[20]\tfit's default_rate: 0.980908\tval's default_rate: 0.979001\n",
      "[21]\tfit's default_rate: 0.981259\tval's default_rate: 0.978671\n",
      "[22]\tfit's default_rate: 0.980268\tval's default_rate: 0.976687\n",
      "[23]\tfit's default_rate: 0.980103\tval's default_rate: 0.976687\n",
      "[24]\tfit's default_rate: 0.980103\tval's default_rate: 0.976687\n",
      "[25]\tfit's default_rate: 0.980103\tval's default_rate: 0.976687\n"
     ]
    }
   ],
   "source": [
    "N = 0\n",
    "model = lightgbm.train(\n",
    "        params={'learning_rate': 0.005,\n",
    "                'num_leaves' : 4,\n",
    "                'boosting_type' : 'gbdt'},\n",
    "        train_set=fit,\n",
    "        num_boost_round=25,\n",
    "        valid_sets=(fit, val),\n",
    "        valid_names=('fit', 'val'),\n",
    "        feval=roc_auc_lgbm,\n",
    "        fobj =partial(sigmoid_pairwise_loss_auc_exact, device='gpu')\n",
    "        )"
   ]
  },
  {
   "cell_type": "code",
   "execution_count": null,
   "metadata": {},
   "outputs": [],
   "source": []
  }
 ],
 "metadata": {
  "kernelspec": {
   "display_name": "nn_nets",
   "language": "python",
   "name": "python3"
  },
  "language_info": {
   "codemirror_mode": {
    "name": "ipython",
    "version": 3
   },
   "file_extension": ".py",
   "mimetype": "text/x-python",
   "name": "python",
   "nbconvert_exporter": "python",
   "pygments_lexer": "ipython3",
   "version": "3.8.16"
  },
  "orig_nbformat": 4
 },
 "nbformat": 4,
 "nbformat_minor": 2
}
